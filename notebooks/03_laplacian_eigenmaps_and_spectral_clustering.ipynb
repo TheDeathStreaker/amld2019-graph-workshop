{
 "cells": [
  {
   "cell_type": "markdown",
   "metadata": {},
   "source": [
    "# Laplacian eigenmaps and spectral clustering"
   ]
  },
  {
   "cell_type": "code",
   "execution_count": 1,
   "metadata": {},
   "outputs": [],
   "source": [
    "import numpy as np\n",
    "import pandas as pd\n",
    "import pygsp\n",
    "import matplotlib as mpl\n",
    "import matplotlib.pylab as plt\n",
    "\n",
    "from utils import assign_party_to_names"
   ]
  },
  {
   "cell_type": "code",
   "execution_count": 6,
   "metadata": {},
   "outputs": [
    {
     "data": {
      "text/html": [
       "<div>\n",
       "<style scoped>\n",
       "    .dataframe tbody tr th:only-of-type {\n",
       "        vertical-align: middle;\n",
       "    }\n",
       "\n",
       "    .dataframe tbody tr th {\n",
       "        vertical-align: top;\n",
       "    }\n",
       "\n",
       "    .dataframe thead th {\n",
       "        text-align: right;\n",
       "    }\n",
       "</style>\n",
       "<table border=\"1\" class=\"dataframe\">\n",
       "  <thead>\n",
       "    <tr style=\"text-align: right;\">\n",
       "      <th></th>\n",
       "      <th>CouncillorName</th>\n",
       "      <th>node_idx</th>\n",
       "      <th>CouncillorId</th>\n",
       "      <th>PartyAbbreviation</th>\n",
       "    </tr>\n",
       "  </thead>\n",
       "  <tbody>\n",
       "    <tr>\n",
       "      <th>0</th>\n",
       "      <td>Thorens Goumaz Adèle</td>\n",
       "      <td>0</td>\n",
       "      <td>3907</td>\n",
       "      <td>PES</td>\n",
       "    </tr>\n",
       "    <tr>\n",
       "      <th>1</th>\n",
       "      <td>Marra Ada</td>\n",
       "      <td>1</td>\n",
       "      <td>3923</td>\n",
       "      <td>PSS</td>\n",
       "    </tr>\n",
       "    <tr>\n",
       "      <th>2</th>\n",
       "      <td>Glauser-Zufferey Alice</td>\n",
       "      <td>2</td>\n",
       "      <td>3883</td>\n",
       "      <td>UDC</td>\n",
       "    </tr>\n",
       "    <tr>\n",
       "      <th>3</th>\n",
       "      <td>Moser Tiana Angelina</td>\n",
       "      <td>3</td>\n",
       "      <td>3897</td>\n",
       "      <td>pvl</td>\n",
       "    </tr>\n",
       "    <tr>\n",
       "      <th>4</th>\n",
       "      <td>Rickli Natalie</td>\n",
       "      <td>4</td>\n",
       "      <td>3902</td>\n",
       "      <td>UDC</td>\n",
       "    </tr>\n",
       "  </tbody>\n",
       "</table>\n",
       "</div>"
      ],
      "text/plain": [
       "           CouncillorName  node_idx  CouncillorId PartyAbbreviation\n",
       "0    Thorens Goumaz Adèle         0          3907               PES\n",
       "1               Marra Ada         1          3923               PSS\n",
       "2  Glauser-Zufferey Alice         2          3883               UDC\n",
       "3    Moser Tiana Angelina         3          3897               pvl\n",
       "4          Rickli Natalie         4          3902               UDC"
      ]
     },
     "execution_count": 6,
     "metadata": {},
     "output_type": "execute_result"
    }
   ],
   "source": [
    "# Get information from the 50th legislature\n",
    "adjacency = np.load('../data/adjacency.npy')\n",
    "node_indices = pd.read_csv('../data/node_idx_cluster.csv', sep=',')\n",
    "name_with_party = assign_party_to_names('../data/Ratsmitglieder_1848_FR.csv', node_indices)\n",
    "party_to_be_plotted = ['UDC','PSS','PDC','pvl','PLR','PES','PBD']\n",
    "party_colors = ['royalblue','r', 'orange', 'g', 'cyan', 'forestgreen', 'yellow']\n",
    "party_color_map = dict((key, value) for (key, value) in zip(party_to_be_plotted, party_colors))\n",
    "\n",
    "member_colors = []\n",
    "member_party = name_with_party['PartyAbbreviation'].values\n",
    "abbreviations = []\n",
    "for abbr in member_party:\n",
    "    try:\n",
    "        colorname = party_color_map[abbr]\n",
    "        abbreviations.append(abbr)\n",
    "    except KeyError:\n",
    "        colorname = 'gray'\n",
    "        abbreviations.append('Other')\n",
    "    member_colors.append(colorname)\n",
    "    \n",
    "name_with_party.head()"
   ]
  },
  {
   "cell_type": "code",
   "execution_count": 3,
   "metadata": {},
   "outputs": [],
   "source": [
    "G = pygsp.graphs.Graph(W=adjacency)\n",
    "G.compute_laplacian(lap_type='normalized')\n",
    "eigvals, eigvecs = np.linalg.eigh(G.L.toarray())\n",
    "x_coords = -eigvecs[:,1]\n",
    "y_coords = -eigvecs[:,2]"
   ]
  },
  {
   "cell_type": "code",
   "execution_count": 4,
   "metadata": {},
   "outputs": [
    {
     "data": {
      "image/png": "[encoded data removed]",
      "text/plain": [
       "<Figure size 648x360 with 1 Axes>"
      ]
     },
     "metadata": {},
     "output_type": "display_data"
    },
    {
     "data": {
      "image/png": "[encoded data removed]",
      "text/plain": [
       "<Figure size 691.2x216 with 1 Axes>"
      ]
     },
     "metadata": {},
     "output_type": "display_data"
    }
   ],
   "source": [
    "# Scatter plot of the council members, colored by party affiliation\n",
    "fig = plt.figure(figsize=(9,5))\n",
    "ax = fig.add_subplot(111)\n",
    "ax.scatter(x_coords, y_coords, c=member_colors, s=50, alpha=0.8)\n",
    "ax.set_title('Position on political spectrum by party ')\n",
    "ax.get_xaxis().set_ticks([])\n",
    "ax.get_yaxis().set_ticks([])\n",
    "fig.tight_layout()\n",
    "\n",
    "fig = plt.figure(figsize=(9.6, 3))\n",
    "ax = fig.add_axes([0.05, 0.15, 0.9, 0.15])\n",
    "\n",
    "# Plot color dictionary for the party abbreviations\n",
    "cmap = mpl.colors.ListedColormap(party_colors)\n",
    "cbar = mpl.colorbar.ColorbarBase(ax, cmap=cmap,\n",
    "                                 ticks=range(len(party_colors)),\n",
    "                                 spacing='uniform',\n",
    "                                 orientation='horizontal')\n",
    "\n",
    "cbar.ax.get_xaxis().set_ticks([])\n",
    "for j, lab in enumerate(party_to_be_plotted):\n",
    "    cbar.ax.text((2 * j + 1) / 14.0, -.5, lab, ha='center', va='center', color='black')\n",
    "cbar.ax.get_xaxis().labelpad = 15\n",
    "cbar.ax.set_xlabel('Party Abbreviations')\n",
    "cbar.ax.xaxis.set_label_coords(0.5, -1)\n",
    "\n",
    "plt.show()"
   ]
  },
  {
   "cell_type": "code",
   "execution_count": null,
   "metadata": {},
   "outputs": [],
   "source": []
  },
  {
   "cell_type": "code",
   "execution_count": null,
   "metadata": {},
   "outputs": [],
   "source": []
  }
 ],
 "metadata": {
  "kernelspec": {
   "display_name": "Python 3",
   "language": "python",
   "name": "python3"
  },
  "language_info": {
   "codemirror_mode": {
    "name": "ipython",
    "version": 3
   },
   "file_extension": ".py",
   "mimetype": "text/x-python",
   "name": "python",
   "nbconvert_exporter": "python",
   "pygments_lexer": "ipython3",
   "version": "3.7.2"
  }
 },
 "nbformat": 4,
 "nbformat_minor": 2
}
