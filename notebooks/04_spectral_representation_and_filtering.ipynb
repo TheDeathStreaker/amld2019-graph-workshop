{
 "cells": [
  {
   "cell_type": "markdown",
   "metadata": {},
   "source": [
    "# [AMLD'19 Learning and Processing over Networks](https://github.com/rodrigo-pena/amld2019-graph-workshop)\n",
    "\n",
    "# Spectral representation and filtering"
   ]
  },
  {
   "cell_type": "code",
   "execution_count": null,
   "metadata": {},
   "outputs": [],
   "source": [
    "%matplotlib inline"
   ]
  },
  {
   "cell_type": "code",
   "execution_count": null,
   "metadata": {},
   "outputs": [],
   "source": [
    "import numpy as np\n",
    "from matplotlib import pyplot as plt\n",
    "from mpl_toolkits.mplot3d import Axes3D\n",
    "import pygsp as pg"
   ]
  },
  {
   "cell_type": "code",
   "execution_count": null,
   "metadata": {},
   "outputs": [],
   "source": [
    "#plt.rcParams['figure.figsize'] = (17, 5)"
   ]
  },
  {
   "cell_type": "markdown",
   "metadata": {},
   "source": [
    "## 1 Point cloud denoising"
   ]
  },
  {
   "cell_type": "markdown",
   "metadata": {},
   "source": [
    "1. Load the [Stanford bunny](https://en.wikipedia.org/wiki/Stanford_bunny) point cloud.\n",
    "   It is available in the PyGSP as `pg.graphs.Bunny()`.\n",
    "2. Plot the point cloud.\n",
    "   You can plot a PyGSP graph with `my_graph.plot()`."
   ]
  },
  {
   "cell_type": "code",
   "execution_count": null,
   "metadata": {},
   "outputs": [],
   "source": [
    "graph =  # Your code here."
   ]
  },
  {
   "cell_type": "markdown",
   "metadata": {},
   "source": [
    "The position of each point along the x axis can be viewed as a signal on the bunny graph.\n",
    "As such, we can compute its Fourier transform and look at it in the spectral domain.\n",
    "\n",
    "1. Compute the spectral representation of the signal.\n",
    "   The coordinate signal can be accessed at `graph.coords`.\n",
    "   The Fourier transform is computed with `my_graph.gft(my_signal)`.\n",
    "1. Plot it as a function of the eigenvalues (found as the property `my_graph.e`).\n",
    "1. Is the signal energy concentrated in the low or high frequencies?\n",
    "1. What does that mean?"
   ]
  },
  {
   "cell_type": "code",
   "execution_count": null,
   "metadata": {},
   "outputs": [],
   "source": [
    "# Your code here."
   ]
  },
  {
   "cell_type": "markdown",
   "metadata": {},
   "source": [
    "Add some noise, e.g. with `np.random.normal()` (a reasonable scale is `4e-3`), to the 3D position of the vertices (stored in `graph.coords`)."
   ]
  },
  {
   "cell_type": "code",
   "execution_count": null,
   "metadata": {},
   "outputs": [],
   "source": [
    "noise =  # Your code here.\n",
    "\n",
    "coords_clean = graph.coords\n",
    "coords_noisy = graph.coords + noise\n",
    "graph.coords = coords_noisy\n",
    "\n",
    "fig, ax = graph.plot(title='noisy bunny')\n",
    "ax.axis('off');"
   ]
  },
  {
   "cell_type": "markdown",
   "metadata": {},
   "source": [
    "Look again at the frequency content of the position signal.\n",
    "What changed?"
   ]
  },
  {
   "cell_type": "code",
   "execution_count": null,
   "metadata": {},
   "outputs": [],
   "source": [
    "plt.semilogy(graph.e, abs(graph.gft(noise[:, 0])), label='noise');\n",
    "plt.semilogy(graph.e, abs(graph.gft(graph.coords[:, 0])), label='noisy bunny');\n",
    "plt.legend();"
   ]
  },
  {
   "cell_type": "markdown",
   "metadata": {},
   "source": [
    "To denoise, we have to remove the noise while keeping the information, which is the shape of the bunny.\n",
    "Visually, you should see that it is much easier to do that in the spectral domain than in the spatial domain!\n",
    "\n",
    "Design a filter that will remove the high frequencies, where the noise is concentrated, while keeping the low frequencies, where the information is concentrated.\n",
    "Try the following filters: `pg.filters.Heat`, `pg.filters.Rectangular`, and `pg.filters.Expwin`. Do play with their parameters!\n",
    "You can plot a filter's response with `my_filter.plot()`."
   ]
  },
  {
   "cell_type": "code",
   "execution_count": null,
   "metadata": {},
   "outputs": [],
   "source": [
    "# Your code here.\n",
    "\n",
    "g.plot(eigenvalues=False);"
   ]
  },
  {
   "cell_type": "markdown",
   "metadata": {},
   "source": [
    "1. Filter the noisy coordinates with the filter you just designed.\n",
    "   Use `my_filter.filter(my_signal)`.\n",
    "   If using a rectangular filter, additionally set the option method='exact'.\n",
    "1. Look at the frequency content before and after filtering.\n",
    "   Do you see the effect of the filter?"
   ]
  },
  {
   "cell_type": "code",
   "execution_count": null,
   "metadata": {},
   "outputs": [],
   "source": [
    "graph.coords =  # Your code here."
   ]
  },
  {
   "cell_type": "code",
   "execution_count": null,
   "metadata": {},
   "outputs": [],
   "source": [
    "plt.semilogy(graph.e, abs(graph.gft(coords_clean[:, 0])), label='original bunny');\n",
    "plt.semilogy(graph.e, abs(graph.gft(coords_noisy[:, 0])), label='noisy bunny');\n",
    "plt.semilogy(graph.e, abs(graph.gft(graph.coords[:, 0])), label='denoised bunny');\n",
    "plt.legend();"
   ]
  },
  {
   "cell_type": "markdown",
   "metadata": {},
   "source": [
    "Finally, look at the denoised bunny in the spatial domain."
   ]
  },
  {
   "cell_type": "code",
   "execution_count": null,
   "metadata": {},
   "outputs": [],
   "source": [
    "fig, ax = graph.plot(title='cleaned bunny')\n",
    "ax.axis('off');"
   ]
  },
  {
   "cell_type": "markdown",
   "metadata": {},
   "source": [
    "## 2 Heat diffusion"
   ]
  },
  {
   "cell_type": "markdown",
   "metadata": {},
   "source": [
    "## 3 Curvature estimation"
   ]
  }
 ],
 "metadata": {
  "kernelspec": {
   "display_name": "amld2019_graph_workshop",
   "language": "python",
   "name": "amld2019_graph_workshop"
  },
  "language_info": {
   "codemirror_mode": {
    "name": "ipython",
    "version": 3
   },
   "file_extension": ".py",
   "mimetype": "text/x-python",
   "name": "python",
   "nbconvert_exporter": "python",
   "pygments_lexer": "ipython3",
   "version": "3.7.2"
  }
 },
 "nbformat": 4,
 "nbformat_minor": 2
}
