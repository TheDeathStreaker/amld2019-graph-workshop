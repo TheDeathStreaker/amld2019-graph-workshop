{
 "cells": [
  {
   "cell_type": "markdown",
   "metadata": {},
   "source": [
    "# [AMLD'19 Learning and Processing over Networks](https://github.com/rodrigo-pena/amld2019-graph-workshop)\n",
    "\n",
    "# Installation\n",
    "\n",
    "Follow the [installation instructions] then execute this notebook to make sure that the main packages we'll need for the workshop can at least be imported.\n",
    "\n",
    "[installation instructions]: https://github.com/rodrigo-pena/amld2019-graph-workshop#installation"
   ]
  },
  {
   "cell_type": "code",
   "execution_count": null,
   "metadata": {},
   "outputs": [],
   "source": [
    "import numpy as np\n",
    "import scipy\n",
    "import sklearn\n",
    "from matplotlib import pyplot as plt\n",
    "import pandas\n",
    "import networkx as nx\n",
    "import osmnx\n",
    "import cartopy\n",
    "import pygsp"
   ]
  },
  {
   "cell_type": "code",
   "execution_count": null,
   "metadata": {
    "scrolled": true
   },
   "outputs": [],
   "source": [
    "W = scipy.sparse.rand(10, 10, 0.2)\n",
    "W = W.toarray()\n",
    "W = W - np.diag(np.diag(W))\n",
    "W = W + np.transpose(W)\n",
    "G = pygsp.graphs.Graph(W)\n",
    "print(G.d)"
   ]
  },
  {
   "cell_type": "code",
   "execution_count": null,
   "metadata": {},
   "outputs": [],
   "source": [
    "G = pygsp.graphs.Logo()\n",
    "G.estimate_lmax()\n",
    "g = pygsp.filters.Heat(G, scale=100)\n",
    "DELTAS = [20, 30, 1090]\n",
    "s = np.zeros(G.N)\n",
    "s[DELTAS] = 1\n",
    "s = g.filter(s)\n",
    "fig, ax = G.plot_signal(s, highlight=DELTAS)"
   ]
  },
  {
   "cell_type": "code",
   "execution_count": null,
   "metadata": {},
   "outputs": [],
   "source": []
  }
 ],
 "metadata": {
  "kernelspec": {
   "display_name": "Python 3",
   "language": "python",
   "name": "python3"
  },
  "language_info": {
   "codemirror_mode": {
    "name": "ipython",
    "version": 3
   },
   "file_extension": ".py",
   "mimetype": "text/x-python",
   "name": "python",
   "nbconvert_exporter": "python",
   "pygments_lexer": "ipython3",
   "version": "3.6.7"
  }
 },
 "nbformat": 4,
 "nbformat_minor": 2
}
